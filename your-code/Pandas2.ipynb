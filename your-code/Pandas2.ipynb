{
 "cells": [
  {
   "cell_type": "code",
   "execution_count": 1,
   "metadata": {
    "pycharm": {
     "is_executing": false
    }
   },
   "outputs": [],
   "source": [
    "import pandas as pandas"
   ]
  },
  {
   "cell_type": "code",
   "execution_count": 2,
   "metadata": {
    "pycharm": {
     "is_executing": false
    }
   },
   "outputs": [],
   "source": [
    "data = pandas.read_excel('Encuesta.xlsx')"
   ]
  },
  {
   "cell_type": "code",
   "execution_count": null,
   "metadata": {
    "pycharm": {
     "is_executing": false
    }
   },
   "outputs": [],
   "source": [
    "#Saber cuántos datos tengo\n",
    "len(data)"
   ]
  },
  {
   "cell_type": "code",
   "execution_count": null,
   "metadata": {
    "pycharm": {
     "is_executing": false
    }
   },
   "outputs": [],
   "source": [
    "#Saber el nombre de las columnas\n",
    "data.columns"
   ]
  },
  {
   "cell_type": "code",
   "execution_count": null,
   "metadata": {
    "pycharm": {
     "is_executing": false
    }
   },
   "outputs": [],
   "source": [
    "#Saber cuántos null tengo\n",
    "data.isnull().sum()"
   ]
  },
  {
   "cell_type": "code",
   "execution_count": 3,
   "metadata": {
    "pycharm": {
     "is_executing": false
    }
   },
   "outputs": [],
   "source": [
    "#Cambiar nombre de las columnas porque no se puede hacer nada.\n",
    "data = data.rename(columns={\n",
    "    'Lugar de residencia (ciudad o localidad)':'Ciudad',\n",
    "    'Código postal de residencia actual':'CP1',\n",
    "    '¿Qué carrera estudiaste?':'Carrera',\n",
    "    '¿Cuál es tu papel dentro de la economía creativa?':'Papel',\n",
    "    'Sector de la economía creativa':'Sector',\n",
    "    'Nombre del proyecto que eres parte':'Proyecto',\n",
    "    '¿Cuál es tu rol dentro de la economía creativa?':'Rol',\n",
    "    '¿Cuánto tiempo llevas trabajando en este proyecto?':'Tiempo',\n",
    "    'Código postal del proyecto que eres parte':'CP2',\n",
    "    '¿Desarrollas tu práctica creativa en la misma área en donde resides?':'MismaA',\n",
    "    '¿Cómo evaluarías tu nivel de inglés?':'Inglés',\n",
    "    '¿Qué te llevó a ser parte de la economía creativa?':'Motivación',\n",
    "    '¿Has recibido apoyo de mentores formales que han contribuido al desarrollo de tu trayectoria en la economía creativa?':'Mentores',\n",
    "    '¿Tienes algún tipo de experiencia de emprendimiento? Elige las opciones que aplican.':'Emprendimiento',\n",
    "    'Indica aquellas organizaciones o actores que han sido importantes para el desarrollo de tu trayectoria en la economía creativa (ej. instituciones que te han apoyado financieramente, con capacitaciones, con promoción, etc.) ¿De qué forma te han apoyado? (En caso de ser aplicable, escribe el nombre de la persona e institución, y la forma en que te han apoyado)':'Orgs',\n",
    "    '¿Perteneces a una comunidad o colectivo que ha apoyado el desarrollo del proyecto del que eres parte?':'Colectivo',\n",
    "    'Efectos positivos de pertenecer a una comunidad:':'EfectosCom',\n",
    "    'Califica el valor los retos que llegan a enfrentar los proyectos creativos en función de su importancia (5 es muy importante, 1 no es importante): [Falta de capacitación especializada (desarrollo de habilidades)]':'RCapacitación',\n",
    "    'Califica el valor los retos que llegan a enfrentar los proyectos creativos en función de su importancia (5 es muy importante, 1 no es importante): [Falta de oportunidades en el mercado]':'RMercado',\n",
    "    'Califica el valor los retos que llegan a enfrentar los proyectos creativos en función de su importancia (5 es muy importante, 1 no es importante): [Competencia]':'RCompetencia',\n",
    "    'Califica el valor los retos que llegan a enfrentar los proyectos creativos en función de su importancia (5 es muy importante, 1 no es importante): [Financiamiento]':'RFinanciamiento',\n",
    "    'Califica el valor los retos que llegan a enfrentar los proyectos creativos en función de su importancia (5 es muy importante, 1 no es importante): [Falta de políticas públicas para el sector]':'RPolíticas',\n",
    "    'Califica el valor los retos que llegan a enfrentar los proyectos creativos en función de su importancia (5 es muy importante, 1 no es importante): [Falta de entendimiento de la propuesta de valor]':'RValor',\n",
    "    'Califica el valor los retos que llegan a enfrentar los proyectos creativos en función de su importancia (5 es muy importante, 1 no es importante): [Comunicación]':'RComms',\n",
    "    'Califica el valor los retos que llegan a enfrentar los proyectos creativos en función de su importancia (5 es muy importante, 1 no es importante): [Condiciones laborales]':'RLaborales',\n",
    "    'Dentro del proyecto creativo del que eres parte, qué tan frecuentemente realizas las siguientes actividades (5 muy frecuente, 1 no lo realizo): [Dirección creativa]':'ADirección',\n",
    "    'Dentro del proyecto creativo del que eres parte, qué tan frecuentemente realizas las siguientes actividades (5 muy frecuente, 1 no lo realizo): [Gestión de equipos]':'AEquipos',\n",
    "    'Dentro del proyecto creativo del que eres parte, qué tan frecuentemente realizas las siguientes actividades (5 muy frecuente, 1 no lo realizo): [Logística]':'ALogística',\n",
    "    'Dentro del proyecto creativo del que eres parte, qué tan frecuentemente realizas las siguientes actividades (5 muy frecuente, 1 no lo realizo): [Administración]':'AAdmin',\n",
    "    'Dentro del proyecto creativo del que eres parte, qué tan frecuentemente realizas las siguientes actividades (5 muy frecuente, 1 no lo realizo): [Operación (producción / desarrollo de proyectos)]':'AOperación',\n",
    "    'Dentro del proyecto creativo del que eres parte, qué tan frecuentemente realizas las siguientes actividades (5 muy frecuente, 1 no lo realizo): [Mercadotecnia]':'AMerca',\n",
    "    'Dentro del proyecto creativo del que eres parte, qué tan frecuentemente realizas las siguientes actividades (5 muy frecuente, 1 no lo realizo): [Comunicación]':'AComms',\n",
    "    'Dentro del proyecto creativo del que eres parte, qué tan frecuentemente realizas las siguientes actividades (5 muy frecuente, 1 no lo realizo): [Finanzas]':'AFinanzas',\n",
    "    '¿Qué habilidades consideras que han sido las más necesarias en el desarrollo de tu trayectoria profesional? Indica todas las opciones que aplican.Comunicación y habilidades interpersonales (5 muy frecuente, 1 no lo realizo): [Comunicación y habilidades interpersonales]':'HInter',\n",
    "    '¿Qué habilidades consideras que han sido las más necesarias en el desarrollo de tu trayectoria profesional? Indica todas las opciones que aplican.Comunicación y habilidades interpersonales (5 muy frecuente, 1 no lo realizo): [Colaboración]':'HColaboración',\n",
    "    '¿Qué habilidades consideras que han sido las más necesarias en el desarrollo de tu trayectoria profesional? Indica todas las opciones que aplican.Comunicación y habilidades interpersonales (5 muy frecuente, 1 no lo realizo): [Negociación]':'HNegociación',\n",
    "    '¿Qué habilidades consideras que han sido las más necesarias en el desarrollo de tu trayectoria profesional? Indica todas las opciones que aplican.Comunicación y habilidades interpersonales (5 muy frecuente, 1 no lo realizo): [Gestión de proyectos]':'HGestión',\n",
    "    '¿Qué habilidades consideras que han sido las más necesarias en el desarrollo de tu trayectoria profesional? Indica todas las opciones que aplican.Comunicación y habilidades interpersonales (5 muy frecuente, 1 no lo realizo): [Investigación y estrategia]':'HInvestigación',\n",
    "    '¿Qué habilidades consideras que han sido las más necesarias en el desarrollo de tu trayectoria profesional? Indica todas las opciones que aplican.Comunicación y habilidades interpersonales (5 muy frecuente, 1 no lo realizo): [Integración de tecnología]':'HTech',\n",
    "    '¿Qué habilidades consideras que han sido las más necesarias en el desarrollo de tu trayectoria profesional? Indica todas las opciones que aplican.Comunicación y habilidades interpersonales (5 muy frecuente, 1 no lo realizo): [Desarrollo de negocios]':'HNegocios',\n",
    "    '¿Qué habilidades consideras que han sido las más necesarias en el desarrollo de tu trayectoria profesional? Indica todas las opciones que aplican.Comunicación y habilidades interpersonales (5 muy frecuente, 1 no lo realizo): [Finanzas]':'HFinanzas',\n",
    "    '¿Qué habilidades consideras que han sido las más necesarias en el desarrollo de tu trayectoria profesional? Indica todas las opciones que aplican.Comunicación y habilidades interpersonales (5 muy frecuente, 1 no lo realizo): [Creativa e innovación]':'HInnovación',\n",
    "    'Califica la dificultad o facilidad de desarrollar las siguientes actividades: (5 muy fácil, 1 muy difícil): [Comunicación y habilidades interpersonales]':'DInter',\n",
    "    'Califica la dificultad o facilidad de desarrollar las siguientes actividades: (5 muy fácil, 1 muy difícil): [Colaboración]':'DColaboración',\n",
    "    'Califica la dificultad o facilidad de desarrollar las siguientes actividades: (5 muy fácil, 1 muy difícil): [Negociación]':'DNegociación',\n",
    "    'Califica la dificultad o facilidad de desarrollar las siguientes actividades: (5 muy fácil, 1 muy difícil): [Gestión de proyectos]':'DGestión',\n",
    "    'Califica la dificultad o facilidad de desarrollar las siguientes actividades: (5 muy fácil, 1 muy difícil): [Investigación y estrategia]':'DInvestigación',\n",
    "    'Califica la dificultad o facilidad de desarrollar las siguientes actividades: (5 muy fácil, 1 muy difícil): [Integración de tecnología]':'DTech',\n",
    "    'Califica la dificultad o facilidad de desarrollar las siguientes actividades: (5 muy fácil, 1 muy difícil): [Desarrollo de negocios]':'DNegocios',\n",
    "    'Califica la dificultad o facilidad de desarrollar las siguientes actividades: (5 muy fácil, 1 muy difícil): [Finanzas]':'DFinanzas',\n",
    "    'Califica la dificultad o facilidad de desarrollar las siguientes actividades: (5 muy fácil, 1 muy difícil): [Creativa e innovación]':'DInnovación',\n",
    "    'De las que seleccionaste como difíciles de desarrollar, ¿por qué consideras este nivel de dificultad?':'RazónDificultad+',\n",
    "    'De las que seleccionaste como menos difíciles de desarrollar, ¿por qué consideras este nivel de dificultad?':'RazónDificultad-',\n",
    "    '¿Qué habilidades consideras que te faltan o te gustaría desarrollar?':'HabilidadesDesarrollar',\n",
    "    '¿De qué forma sueles desarrollar habilidades?':'FormaHabilidades',\n",
    "    '¿Consideras que los cursos enfocados en el desarrollo de habilidades son relevantes para el sector creativo?':'RelevanciaCursos',\n",
    "    'Si tomaste un curso que recomendarías, por favor anota el nombre del curso, la institución o persona que lo impartió, y la duración aproximada en horas.':'CursoRecomendación',\n",
    "    '¿Hay alguna intención de crear un impacto positivo en la sociedad a través del proyecto del que eres parte?':'ImpactoSocial',\n",
    "    '¿Qué tipo de acciones en tu proyecto apoyan esta intención?':'TipoAcciones',\n",
    "    '¿Cuál fue un factor importante en tu desarrollo de conciencia social y su integración a tu proyecto creativo?':'ConcienciaSocial',\n",
    "    'Indica organizaciones o actores que han sido importantes para tu desarrollo en temas y modelos de impacto social.':'OrgSociales',\n",
    "    '¿Cuáles consideras que son las necesidades más importantes para personas que son parte de o deciden emprender proyectos creativos que al mismo tiempo buscan crear un impacto social?':'HabImpactoSocial'}\n",
    "                  )"
   ]
  },
  {
   "cell_type": "code",
   "execution_count": null,
   "metadata": {
    "pycharm": {
     "is_executing": false
    }
   },
   "outputs": [],
   "source": [
    "#Ahora sí puedo ver cuántos null tengo.\n",
    "data.isnull().sum()"
   ]
  },
  {
   "cell_type": "code",
   "execution_count": null,
   "metadata": {
    "pycharm": {
     "is_executing": false
    }
   },
   "outputs": [],
   "source": [
    "#Mostrar nombre de las columnas\n",
    "columns = data.columns\n",
    "columns"
   ]
  },
  {
   "cell_type": "code",
   "execution_count": 4,
   "metadata": {
    "pycharm": {
     "is_executing": false
    }
   },
   "outputs": [],
   "source": [
    "#Asignar un ID\n",
    "data.insert(0, 'ID', range(1,1+len(data)))\n"
   ]
  },
  {
   "cell_type": "code",
   "execution_count": null,
   "metadata": {
    "pycharm": {
     "is_executing": false
    }
   },
   "outputs": [],
   "source": [
    "#Saber tipo de dato.\n",
    "data.dtypes"
   ]
  },
  {
   "cell_type": "code",
   "execution_count": 5,
   "metadata": {
    "pycharm": {
     "is_executing": false
    }
   },
   "outputs": [],
   "source": [
    "#Dividir las categorías en diferentes datasets\n",
    "ubicación = data.filter(['ID','Ciudad','Municipio','Estado','CP1'], axis=1)\n",
    "perfil = data.filter(['ID','Nivel de estudios','Carrera','Papel','Sector','Rol','Inglés','Motivación'], axis=1)\n",
    "apoyo = data.filter(['ID','Mentores','Emprendimiento','Orgs','Colective'], axis=1)\n",
    "retos = data.filter(['ID','RCapacitación', 'RMercado', 'RCompetencia','RFinanciamiento', 'RPolíticas', 'RValor', 'RComms', 'RLaborales'], axis=1)\n",
    "actividades = data.filter(['ID','ADirección', 'AEquipos', 'ALogística', 'AAdmin', 'AOperación','AMerca', 'AComms', 'AFinanzas'], axis=1)\n",
    "habilidades = data.filter(['ID','HInter', 'HColaboración','HNegociación', 'HGestión', 'HInvestigación', 'HTech', 'HNegocios','HFinanzas', 'HInnovación'], axis=1)\n",
    "dificultad = data.filter(['ID','DInter', 'DColaboración', 'DNegociación','DGestión', 'DInvestigación', 'DTech', 'DNegocios', 'DFinanzas','DInnovación'], axis=1)\n",
    "razones = data.filter(['ID','RazónDificultad+', 'RazónDificultad-'], axis=1)\n",
    "desarrollo = data.filter(['ID','HabilidadesDesarrollar', 'FormaHabilidades', 'RelevanciaCursos','CursoRecomendación'], axis=1)\n",
    "social = data.filter(['ID','ImpactoSocial', 'TipoAcciones','ConcienciaSocial', 'OrgSociales', 'HabImpactoSocial'], axis=1)"
   ]
  },
  {
   "cell_type": "code",
   "execution_count": 6,
   "metadata": {
    "pycharm": {
     "is_executing": false
    }
   },
   "outputs": [
    {
     "data": {
      "text/plain": [
       "ID           0\n",
       "Ciudad       0\n",
       "Municipio    0\n",
       "Estado       0\n",
       "CP1          0\n",
       "dtype: int64"
      ]
     },
     "execution_count": 6,
     "metadata": {},
     "output_type": "execute_result"
    }
   ],
   "source": [
    "#Cambiar nulls a cero.\n",
    "ubicación.dtypes\n",
    "ubicación.fillna('Sin respuesta', inplace = True)\n",
    "ubicación.isnull().sum()"
   ]
  },
  {
   "cell_type": "code",
   "execution_count": 7,
   "metadata": {},
   "outputs": [
    {
     "data": {
      "text/plain": [
       "ID                   0\n",
       "Nivel de estudios    0\n",
       "Carrera              0\n",
       "Papel                0\n",
       "Sector               0\n",
       "Rol                  0\n",
       "Inglés               0\n",
       "Motivación           0\n",
       "dtype: int64"
      ]
     },
     "execution_count": 7,
     "metadata": {},
     "output_type": "execute_result"
    }
   ],
   "source": [
    "#Cambiar nulls a sin respuesta.\n",
    "perfil.dtypes\n",
    "perfil.fillna('Sin respuesta', inplace = True)\n",
    "perfil.isnull().sum()"
   ]
  },
  {
   "cell_type": "code",
   "execution_count": 8,
   "metadata": {},
   "outputs": [
    {
     "data": {
      "text/plain": [
       "ID                0\n",
       "Mentores          0\n",
       "Emprendimiento    0\n",
       "Orgs              0\n",
       "dtype: int64"
      ]
     },
     "execution_count": 8,
     "metadata": {},
     "output_type": "execute_result"
    }
   ],
   "source": [
    "apoyo.dtypes\n",
    "apoyo.fillna('Sin respuesta', inplace = True)\n",
    "apoyo.isnull().sum()"
   ]
  },
  {
   "cell_type": "code",
   "execution_count": 9,
   "metadata": {},
   "outputs": [
    {
     "data": {
      "text/plain": [
       "ID                 0\n",
       "RCapacitación      0\n",
       "RMercado           0\n",
       "RCompetencia       0\n",
       "RFinanciamiento    0\n",
       "RPolíticas         0\n",
       "RValor             0\n",
       "RComms             0\n",
       "RLaborales         0\n",
       "dtype: int64"
      ]
     },
     "execution_count": 9,
     "metadata": {},
     "output_type": "execute_result"
    }
   ],
   "source": [
    "retos.dtypes\n",
    "retos.fillna(0, inplace = True)\n",
    "retos.isnull().sum()"
   ]
  },
  {
   "cell_type": "code",
   "execution_count": 10,
   "metadata": {},
   "outputs": [
    {
     "data": {
      "text/plain": [
       "ID            0\n",
       "ADirección    0\n",
       "AEquipos      0\n",
       "ALogística    0\n",
       "AAdmin        0\n",
       "AOperación    0\n",
       "AMerca        0\n",
       "AComms        0\n",
       "AFinanzas     0\n",
       "dtype: int64"
      ]
     },
     "execution_count": 10,
     "metadata": {},
     "output_type": "execute_result"
    }
   ],
   "source": [
    "actividades.dtypes\n",
    "actividades.fillna(0, inplace = True)\n",
    "actividades.isnull().sum()"
   ]
  },
  {
   "cell_type": "code",
   "execution_count": 11,
   "metadata": {},
   "outputs": [
    {
     "data": {
      "text/plain": [
       "ID                0\n",
       "HInter            0\n",
       "HColaboración     0\n",
       "HNegociación      0\n",
       "HGestión          0\n",
       "HInvestigación    0\n",
       "HTech             0\n",
       "HNegocios         0\n",
       "HFinanzas         0\n",
       "HInnovación       0\n",
       "dtype: int64"
      ]
     },
     "execution_count": 11,
     "metadata": {},
     "output_type": "execute_result"
    }
   ],
   "source": [
    "habilidades.dtypes\n",
    "habilidades.fillna(0, inplace = True)\n",
    "habilidades.isnull().sum()"
   ]
  },
  {
   "cell_type": "code",
   "execution_count": 12,
   "metadata": {},
   "outputs": [
    {
     "data": {
      "text/plain": [
       "ID                0\n",
       "DInter            0\n",
       "DColaboración     0\n",
       "DNegociación      0\n",
       "DGestión          0\n",
       "DInvestigación    0\n",
       "DTech             0\n",
       "DNegocios         0\n",
       "DFinanzas         0\n",
       "DInnovación       0\n",
       "dtype: int64"
      ]
     },
     "execution_count": 12,
     "metadata": {},
     "output_type": "execute_result"
    }
   ],
   "source": [
    "dificultad.dtypes\n",
    "dificultad.fillna(0, inplace = True)\n",
    "dificultad.isnull().sum()"
   ]
  },
  {
   "cell_type": "code",
   "execution_count": 13,
   "metadata": {},
   "outputs": [
    {
     "data": {
      "text/plain": [
       "ID                  0\n",
       "RazónDificultad+    0\n",
       "RazónDificultad-    0\n",
       "dtype: int64"
      ]
     },
     "execution_count": 13,
     "metadata": {},
     "output_type": "execute_result"
    }
   ],
   "source": [
    "razones.dtypes\n",
    "razones.fillna('Sin respuesta', inplace = True)\n",
    "razones.isnull().sum()"
   ]
  },
  {
   "cell_type": "code",
   "execution_count": 14,
   "metadata": {},
   "outputs": [
    {
     "data": {
      "text/plain": [
       "ID                        0\n",
       "HabilidadesDesarrollar    0\n",
       "FormaHabilidades          0\n",
       "RelevanciaCursos          0\n",
       "CursoRecomendación        0\n",
       "dtype: int64"
      ]
     },
     "execution_count": 14,
     "metadata": {},
     "output_type": "execute_result"
    }
   ],
   "source": [
    "desarrollo.dtypes\n",
    "desarrollo.fillna('Sin respuesta', inplace = True)\n",
    "desarrollo.isnull().sum()"
   ]
  },
  {
   "cell_type": "code",
   "execution_count": 15,
   "metadata": {},
   "outputs": [
    {
     "data": {
      "text/plain": [
       "ID                  0\n",
       "ImpactoSocial       0\n",
       "TipoAcciones        0\n",
       "ConcienciaSocial    0\n",
       "OrgSociales         0\n",
       "HabImpactoSocial    0\n",
       "dtype: int64"
      ]
     },
     "execution_count": 15,
     "metadata": {},
     "output_type": "execute_result"
    }
   ],
   "source": [
    "social.dtypes\n",
    "social.fillna('Sin respuesta', inplace = True)\n",
    "social.isnull().sum()"
   ]
  },
  {
   "cell_type": "code",
   "execution_count": null,
   "metadata": {},
   "outputs": [],
   "source": [
    "#Conocer la lista de opciones disponibles\n",
    "ubicación.Estado.value_counts().sort_values()"
   ]
  },
  {
   "cell_type": "code",
   "execution_count": null,
   "metadata": {},
   "outputs": [],
   "source": [
    "#Conocer la lista de opciones disponibles\n",
    "ubicación.Municipio.value_counts().sort_values()"
   ]
  },
  {
   "cell_type": "code",
   "execution_count": null,
   "metadata": {},
   "outputs": [],
   "source": [
    "#Conocer la lista de opciones disponibles\n",
    "perfil.Carrera.value_counts().sort_values()"
   ]
  },
  {
   "cell_type": "code",
   "execution_count": null,
   "metadata": {},
   "outputs": [],
   "source": [
    "#Columnas que son un desastre:\n",
    "#Ciudad: la dejaré morir porque no aporta algo más, con Municipio es suficiente. \n",
    "#Carrera, Motivación, Orgs, Colective: limpiaré carrera y motivación porque aportan información.\n",
    "#RazónDificultad+, RazónDificultad-\n",
    "#HabilidadesDesarrollar, 'FormaHabilidades', 'Cursos'\n",
    "#TipoAcciones, ConcienciaSocial, OrgsSociales, HabilidadesSociales"
   ]
  },
  {
   "cell_type": "code",
   "execution_count": 16,
   "metadata": {},
   "outputs": [],
   "source": [
    "#Quitar minúsculas y acentos\n",
    "\n",
    "def to_lower_case(text):\n",
    "    return text.lower()\n",
    "\n",
    "def remove_acentos(text):\n",
    "    import unidecode\n",
    "    return unidecode.unidecode(str(text))\n",
    "\n",
    "def remove_punctuation(text):\n",
    "    import re\n",
    "    return re.compile('[^\\w\\s]').sub(\"\", text)"
   ]
  },
  {
   "cell_type": "code",
   "execution_count": 17,
   "metadata": {},
   "outputs": [
    {
     "data": {
      "text/plain": [
       "bachillerato en general                  1\n",
       "ingieneria en gestion empresarial        1\n",
       "telebachillerato                         1\n",
       "administracion y contabilidad rural      1\n",
       "tecnico  superior  universitario         1\n",
       "                                      ... \n",
       "administracion                          62\n",
       "arquitectura                            66\n",
       "ingenieria industrial                   92\n",
       "ingenieria civil                        97\n",
       "informatica                            122\n",
       "Name: Carrera2, Length: 1101, dtype: int64"
      ]
     },
     "execution_count": 17,
     "metadata": {},
     "output_type": "execute_result"
    }
   ],
   "source": [
    "#Quitar minúsculas y acentos\n",
    "Carrera2 = []\n",
    "for i in perfil.Carrera:\n",
    "    Carrera2.append(to_lower_case(remove_acentos(remove_punctuation(str(i)))))\n",
    "perfil['Carrera2'] = Carrera2 \n",
    "perfil.Carrera2.value_counts().sort_values()"
   ]
  },
  {
   "cell_type": "code",
   "execution_count": 18,
   "metadata": {},
   "outputs": [],
   "source": [
    "#Diccionario de carreras \n",
    "CategoríasCarrera = {\n",
    "    'ing':'ingenieria', \n",
    "    'lic':'licenciatura', \n",
    "    'conta': 'contabilidad', \n",
    "    'meca': 'mecatronica',\n",
    "    'progra': 'programacion',\n",
    "    'diseño': 'diseño',\n",
    "    'tsu': 'tsu',\n",
    "    'gastro': 'gastronomia',\n",
    "    'quim': 'quimica',\n",
    "    'logs': 'logistica',\n",
    "    'innov': 'innovacion',\n",
    "    'bach': 'bachillerato',\n",
    "    'admin': 'administracion',\n",
    "    'tec': 'técnico',\n",
    "    'diseno': 'diseño',\n",
    "    'mante': 'mantenimiento',\n",
    "    'prepa': 'bachillerato',\n",
    "    'desarr': 'desarrollo',\n",
    "    'nego': 'negocios',\n",
    "    'inst': 'instalaciones',\n",
    "    'prod': 'produccion'\n",
    "}"
   ]
  },
  {
   "cell_type": "code",
   "execution_count": 19,
   "metadata": {},
   "outputs": [],
   "source": [
    "#Reemplazar valor\n",
    "\n",
    "perfil.loc[perfil['Carrera2'].str.contains('ing'), 'Carrera2'] = 'ingenieria'\n",
    "perfil.loc[perfil['Carrera2'].str.contains('lic'), 'Carrera2'] = 'licenciatura'\n",
    "perfil.loc[perfil['Carrera2'].str.contains('conta'), 'Carrera2'] = 'contabilidad'\n",
    "perfil.loc[perfil['Carrera2'].str.contains('meca'), 'Carrera2'] = 'mecatronica'\n",
    "perfil.loc[perfil['Carrera2'].str.contains('progra'), 'Carrera2'] = 'programacion'\n",
    "perfil.loc[perfil['Carrera2'].str.contains('diseño'), 'Carrera2'] = 'diseño'\n",
    "perfil.loc[perfil['Carrera2'].str.contains('tsu'), 'Carrera2'] = 'tsu'\n",
    "perfil.loc[perfil['Carrera2'].str.contains('gastro'), 'Carrera2'] = 'gastronomia'\n",
    "perfil.loc[perfil['Carrera2'].str.contains('quim'), 'Carrera2'] = 'quimica'\n",
    "perfil.loc[perfil['Carrera2'].str.contains('logis'), 'Carrera2'] = 'logistica'\n",
    "perfil.loc[perfil['Carrera2'].str.contains('innov'), 'Carrera2'] = 'innovacion'\n",
    "perfil.loc[perfil['Carrera2'].str.contains('bach'), 'Carrera2'] = 'bachillerato'\n",
    "perfil.loc[perfil['Carrera2'].str.contains('admin'), 'Carrera2'] = 'administracion'\n",
    "perfil.loc[perfil['Carrera2'].str.contains('tec'), 'Carrera2'] = 'tecnico'\n",
    "perfil.loc[perfil['Carrera2'].str.contains('diseno'), 'Carrera2'] = 'diseño'\n",
    "perfil.loc[perfil['Carrera2'].str.contains('mante'), 'Carrera2'] = 'mantenimiento'\n",
    "perfil.loc[perfil['Carrera2'].str.contains('prepa'), 'Carrera2'] = 'bachillerato'\n",
    "perfil.loc[perfil['Carrera2'].str.contains('desarr'), 'Carrera2'] = 'desarrollo'\n",
    "perfil.loc[perfil['Carrera2'].str.contains('nego'), 'Carrera2'] = 'negocios'\n",
    "perfil.loc[perfil['Carrera2'].str.contains('inst'), 'Carrera2'] = 'instalaciones'\n",
    "perfil.loc[perfil['Carrera2'].str.contains('prod'), 'Carrera2'] = 'produccion'\n"
   ]
  },
  {
   "cell_type": "code",
   "execution_count": 20,
   "metadata": {},
   "outputs": [
    {
     "data": {
      "text/plain": [
       "tpga                             1\n",
       "t s u en construccion            1\n",
       "capacitacion de carpintero       1\n",
       "quinto semestre                  1\n",
       "dnm                              1\n",
       "                              ... \n",
       "contabilidad                   204\n",
       "licenciatura                   211\n",
       "administracion                 319\n",
       "tecnico                        372\n",
       "ingenieria                    1045\n",
       "Name: Carrera2, Length: 260, dtype: int64"
      ]
     },
     "execution_count": 20,
     "metadata": {},
     "output_type": "execute_result"
    }
   ],
   "source": [
    "perfil.Carrera2.value_counts().sort_values()"
   ]
  },
  {
   "cell_type": "code",
   "execution_count": 21,
   "metadata": {},
   "outputs": [
    {
     "data": {
      "text/plain": [
       "['ingenieria',\n",
       " 'licenciatura',\n",
       " 'contabilidad',\n",
       " 'mecatronica',\n",
       " 'programacion',\n",
       " 'diseño',\n",
       " 'tsu',\n",
       " 'gastronomia',\n",
       " 'quimica',\n",
       " 'logistica',\n",
       " 'innovacion',\n",
       " 'bachillerato',\n",
       " 'administracion',\n",
       " 'técnico',\n",
       " 'diseño',\n",
       " 'mantenimiento',\n",
       " 'bachillerato',\n",
       " 'desarrollo',\n",
       " 'negocios',\n",
       " 'instalaciones',\n",
       " 'produccion']"
      ]
     },
     "execution_count": 21,
     "metadata": {},
     "output_type": "execute_result"
    }
   ],
   "source": [
    "valuesCarreras = list(CategoríasCarrera.values())\n",
    "valuesCarreras"
   ]
  },
  {
   "cell_type": "code",
   "execution_count": 22,
   "metadata": {},
   "outputs": [],
   "source": [
    "#Reemplazar otro\n",
    "for i in perfil.Carrera2:\n",
    "    if i not in valuesCarreras:\n",
    "        perfil.Carrera2.replace({i:\"otro\"},inplace = True)"
   ]
  },
  {
   "cell_type": "code",
   "execution_count": 23,
   "metadata": {},
   "outputs": [
    {
     "data": {
      "text/plain": [
       "instalaciones       14\n",
       "innovacion          26\n",
       "quimica             47\n",
       "diseño              56\n",
       "gastronomia         60\n",
       "negocios            67\n",
       "desarrollo          74\n",
       "mantenimiento       88\n",
       "programacion       100\n",
       "produccion         102\n",
       "mecatronica        116\n",
       "bachillerato       119\n",
       "logistica          148\n",
       "tsu                185\n",
       "contabilidad       204\n",
       "licenciatura       211\n",
       "administracion     319\n",
       "ingenieria        1045\n",
       "otro              1166\n",
       "Name: Carrera2, dtype: int64"
      ]
     },
     "execution_count": 23,
     "metadata": {},
     "output_type": "execute_result"
    }
   ],
   "source": [
    "perfil.Carrera2.value_counts().sort_values()"
   ]
  },
  {
   "cell_type": "code",
   "execution_count": 24,
   "metadata": {},
   "outputs": [],
   "source": [
    "#Cambiar de float a int porque no sé porque aquí aparecen como float y en Excel no ._.\n",
    "for i in actividades:\n",
    "    actividades[i] = actividades[i].astype(int)\n",
    "for i in habilidades:\n",
    "    habilidades[i] = habilidades[i].astype(int)\n",
    "for i in dificultad:\n",
    "    dificultad[i] = dificultad[i].astype(int)"
   ]
  },
  {
   "cell_type": "code",
   "execution_count": 25,
   "metadata": {},
   "outputs": [],
   "source": [
    "#Sacar las palabras más frecuentes para armar categorías de un texto\n",
    "\n",
    "def split(text):\n",
    "    return text.split()\n",
    "\n",
    "def strip(text):\n",
    "    return text.strip()\n",
    "\n",
    "words = []\n",
    "for i in perfil.Motivación:\n",
    "    words.append(split(to_lower_case(remove_acentos(remove_punctuation(str(i))))))\n",
    "\n",
    "    \n",
    "MotWords = []\n",
    "for sublist in words:\n",
    "    for item in sublist:\n",
    "        MotWords.append(item)\n",
    "\n",
    "from stop_words import get_stop_words\n",
    "\n",
    "stop_words = get_stop_words('spanish')\n",
    "\n",
    "#Agregar más stop words\n",
    "stop_words.append('mas')\n",
    "stop_words.append('ser')\n",
    "stop_words.append('tener')\n",
    "stop_words.append('parte')\n",
    "stop_words.append('sociedad')\n",
    "stop_words.append('poder')\n",
    "stop_words.append('nuevas')\n",
    "stop_words.append('medio')\n",
    "stop_words.append('propio')\n",
    "\n",
    "\n",
    "MotWords2 = []\n",
    "for i in MotWords:\n",
    "    if i not in stop_words:\n",
    "        MotWords2.append(i)"
   ]
  },
  {
   "cell_type": "code",
   "execution_count": 26,
   "metadata": {},
   "outputs": [],
   "source": [
    "#Aplicar lo mismo que ya hice para sacar las MotWords, pero en la columna:\n",
    "perfil.Motivación = perfil.Motivación.str.normalize('NFKD').str.encode('ascii', errors='ignore').str.decode('utf-8')\n",
    "perfil.Motivación = perfil.Motivación.str.lower()\n",
    "perfil.Motivación = perfil.Motivación.str.replace('[^\\w\\s]','')\n"
   ]
  },
  {
   "cell_type": "code",
   "execution_count": 27,
   "metadata": {},
   "outputs": [],
   "source": [
    "MotWords3 = []\n",
    "\n",
    "for i in MotWords2:\n",
    "    MotWords3.append(strip(i))"
   ]
  },
  {
   "cell_type": "code",
   "execution_count": 28,
   "metadata": {},
   "outputs": [
    {
     "data": {
      "text/plain": [
       "necesidad         243\n",
       "interes           224\n",
       "emprender         194\n",
       "proyecto          184\n",
       "ayudar            124\n",
       "emprendimiento    120\n",
       "economia          110\n",
       "escuela            99\n",
       "comunidad          96\n",
       "ganas              95\n",
       "innovacion         88\n",
       "mejorar            85\n",
       "dinero             84\n",
       "aprender           83\n",
       "gusto              79\n",
       "mejor              70\n",
       "generar            70\n",
       "crear              64\n",
       "innovar            63\n",
       "proyectos          61\n",
       "ambiente           58\n",
       "trabajo            57\n",
       "personas           57\n",
       "ingresos           56\n",
       "querer             56\n",
       "necesidades        55\n",
       "Name: col1, dtype: int64"
      ]
     },
     "execution_count": 28,
     "metadata": {},
     "output_type": "execute_result"
    }
   ],
   "source": [
    "#Lista de las 25 palabras más populares:\n",
    "\n",
    "MotWordsdf = pandas.DataFrame({'col1':MotWords3})\n",
    "\n",
    "MotWordsdf.col1.value_counts().sort_values(ascending=False).head(26)\n"
   ]
  },
  {
   "cell_type": "code",
   "execution_count": 29,
   "metadata": {},
   "outputs": [],
   "source": [
    "#Pasar las palabras a una lista. \n",
    "\n",
    "keysMot= pandas.DataFrame(MotWordsdf.col1.value_counts().sort_values(ascending=False).head(26))\n",
    "keysMot = keysMot.reset_index()\n",
    "keysMot = list(keysMot['index'])"
   ]
  },
  {
   "cell_type": "code",
   "execution_count": null,
   "metadata": {},
   "outputs": [],
   "source": [
    "#Como no he encontrado otra forma más fácil para reemplazar valores:\n",
    "\n",
    "for i in keysMot:\n",
    "    printing = \"perfil.loc[perfil['{}'].str.contains('{}', na= False), 'Motivación'] = '{}'\"\n",
    "    print(printing.format('Motivación',i,i))\n",
    "\n"
   ]
  },
  {
   "cell_type": "code",
   "execution_count": 30,
   "metadata": {},
   "outputs": [],
   "source": [
    "#Poner nuevo nombre a strings para categorizar:\n",
    "\n",
    "perfil.loc[perfil['Motivación'].str.contains('necesidad', na= False), 'Motivación'] = 'necesidad'\n",
    "perfil.loc[perfil['Motivación'].str.contains('interes', na= False), 'Motivación'] = 'interes'\n",
    "perfil.loc[perfil['Motivación'].str.contains('emprend', na= False), 'Motivación'] = 'emprender'\n",
    "perfil.loc[perfil['Motivación'].str.contains('proyecto', na= False), 'Motivación'] = 'proyecto'\n",
    "perfil.loc[perfil['Motivación'].str.contains('ayudar', na= False), 'Motivación'] = 'ayudar'\n",
    "perfil.loc[perfil['Motivación'].str.contains('economia', na= False), 'Motivación'] = 'economia'\n",
    "perfil.loc[perfil['Motivación'].str.contains('escuela', na= False), 'Motivación'] = 'escuela'\n",
    "perfil.loc[perfil['Motivación'].str.contains('comunidad', na= False), 'Motivación'] = 'comunidad'\n",
    "perfil.loc[perfil['Motivación'].str.contains('ganas', na= False), 'Motivación'] = 'ganas'\n",
    "perfil.loc[perfil['Motivación'].str.contains('innov', na= False), 'Motivación'] = 'innovacion'\n",
    "perfil.loc[perfil['Motivación'].str.contains('mejorar', na= False), 'Motivación'] = 'mejorar'\n",
    "perfil.loc[perfil['Motivación'].str.contains('dinero', na= False), 'Motivación'] = 'dinero'\n",
    "perfil.loc[perfil['Motivación'].str.contains('aprender', na= False), 'Motivación'] = 'aprender'\n",
    "perfil.loc[perfil['Motivación'].str.contains('gusto', na= False), 'Motivación'] = 'gusto'\n",
    "perfil.loc[perfil['Motivación'].str.contains('mejor', na= False), 'Motivación'] = 'mejor'\n",
    "perfil.loc[perfil['Motivación'].str.contains('generar', na= False), 'Motivación'] = 'generar'\n",
    "perfil.loc[perfil['Motivación'].str.contains('crear', na= False), 'Motivación'] = 'crear'\n",
    "perfil.loc[perfil['Motivación'].str.contains('proyecto', na= False), 'Motivación'] = 'proyectos'\n",
    "perfil.loc[perfil['Motivación'].str.contains('ambiente', na= False), 'Motivación'] = 'ambiente'\n",
    "perfil.loc[perfil['Motivación'].str.contains('personas', na= False), 'Motivación'] = 'personas'\n",
    "perfil.loc[perfil['Motivación'].str.contains('trabajo', na= False), 'Motivación'] = 'trabajo'\n",
    "perfil.loc[perfil['Motivación'].str.contains('querer', na= False), 'Motivación'] = 'querer'\n",
    "perfil.loc[perfil['Motivación'].str.contains('ingresos', na= False), 'Motivación'] = 'ingresos'\n"
   ]
  },
  {
   "cell_type": "code",
   "execution_count": null,
   "metadata": {},
   "outputs": [],
   "source": []
  },
  {
   "cell_type": "code",
   "execution_count": 31,
   "metadata": {},
   "outputs": [
    {
     "data": {
      "text/plain": [
       "emprender        410\n",
       "necesidad        296\n",
       "interes          251\n",
       "proyectos        201\n",
       "mejor            147\n",
       "innovacion       137\n",
       "ayudar           117\n",
       "economia          97\n",
       "escuela           88\n",
       "nada              79\n",
       "dinero            75\n",
       "gusto             70\n",
       "ganas             60\n",
       "                  51\n",
       "comunidad         49\n",
       "aprender          47\n",
       "trabajo           42\n",
       "sin respuesta     41\n",
       "generar           39\n",
       "crear             32\n",
       "ingresos          28\n",
       "ambiente          26\n",
       "no aplica         26\n",
       "ninguno           25\n",
       "querer            23\n",
       "Name: Motivación, dtype: int64"
      ]
     },
     "execution_count": 31,
     "metadata": {},
     "output_type": "execute_result"
    }
   ],
   "source": [
    "perfil.Motivación.value_counts().sort_values(ascending=False).head(25)\n"
   ]
  },
  {
   "cell_type": "code",
   "execution_count": null,
   "metadata": {},
   "outputs": [],
   "source": []
  },
  {
   "cell_type": "code",
   "execution_count": 32,
   "metadata": {},
   "outputs": [],
   "source": [
    "#Obviamente después tengo que hacer más categorías porque si no casi todo se queda en \"otro\"\n",
    "for i in perfil.Motivación:\n",
    "    if i not in keysMot:\n",
    "        perfil.Motivación.replace({i:\"otro\"},inplace = True)\n",
    "\n",
    "        "
   ]
  },
  {
   "cell_type": "code",
   "execution_count": 33,
   "metadata": {},
   "outputs": [
    {
     "data": {
      "text/plain": [
       "otro          1893\n",
       "emprender      410\n",
       "necesidad      296\n",
       "interes        251\n",
       "proyectos      201\n",
       "mejor          147\n",
       "innovacion     137\n",
       "ayudar         117\n",
       "economia        97\n",
       "escuela         88\n",
       "dinero          75\n",
       "gusto           70\n",
       "ganas           60\n",
       "comunidad       49\n",
       "aprender        47\n",
       "trabajo         42\n",
       "generar         39\n",
       "crear           32\n",
       "ingresos        28\n",
       "ambiente        26\n",
       "querer          23\n",
       "personas        19\n",
       "Name: Motivación, dtype: int64"
      ]
     },
     "execution_count": 33,
     "metadata": {},
     "output_type": "execute_result"
    }
   ],
   "source": [
    "perfil.Motivación.value_counts().sort_values(ascending=False).head(25)\n"
   ]
  },
  {
   "cell_type": "code",
   "execution_count": 34,
   "metadata": {},
   "outputs": [],
   "source": [
    "perfil.Carrera = perfil.Carrera2\n"
   ]
  },
  {
   "cell_type": "code",
   "execution_count": 36,
   "metadata": {},
   "outputs": [],
   "source": [
    "data = ubicación.merge(perfil, how='right',on='ID')\n",
    "data = data.merge(apoyo,how='right',on='ID' )\n",
    "data = data.merge(retos,how='right',on='ID' )\n",
    "data = data.merge(actividades,how='right',on='ID' )\n",
    "data = data.merge(dificultad,how='right',on='ID' )\n",
    "data = data.merge(razones,how='right',on='ID' )\n",
    "data = data.merge(desarrollo,how='right',on='ID' )\n",
    "data = data.merge(social,how='right',on='ID' )\n",
    "\n",
    "\n"
   ]
  },
  {
   "cell_type": "code",
   "execution_count": 39,
   "metadata": {},
   "outputs": [],
   "source": [
    "data.to_excel('EncuestaLimpia.xlsx', index=False)"
   ]
  },
  {
   "cell_type": "code",
   "execution_count": 38,
   "metadata": {},
   "outputs": [
    {
     "data": {
      "text/plain": [
       "0            otro\n",
       "1        economia\n",
       "2          ayudar\n",
       "3            otro\n",
       "4            otro\n",
       "          ...    \n",
       "4142    proyectos\n",
       "4143     personas\n",
       "4144        mejor\n",
       "4145      escuela\n",
       "4146         otro\n",
       "Name: Motivación, Length: 4147, dtype: object"
      ]
     },
     "execution_count": 38,
     "metadata": {},
     "output_type": "execute_result"
    }
   ],
   "source": []
  },
  {
   "cell_type": "code",
   "execution_count": null,
   "metadata": {},
   "outputs": [],
   "source": []
  },
  {
   "cell_type": "code",
   "execution_count": null,
   "metadata": {},
   "outputs": [],
   "source": []
  },
  {
   "cell_type": "code",
   "execution_count": null,
   "metadata": {},
   "outputs": [],
   "source": []
  },
  {
   "cell_type": "code",
   "execution_count": null,
   "metadata": {},
   "outputs": [],
   "source": []
  }
 ],
 "metadata": {
  "kernelspec": {
   "display_name": "Python 3",
   "language": "python",
   "name": "python3"
  },
  "language_info": {
   "codemirror_mode": {
    "name": "ipython",
    "version": 3
   },
   "file_extension": ".py",
   "mimetype": "text/x-python",
   "name": "python",
   "nbconvert_exporter": "python",
   "pygments_lexer": "ipython3",
   "version": "3.7.4"
  }
 },
 "nbformat": 4,
 "nbformat_minor": 2
}
