{
 "cells": [
  {
   "cell_type": "markdown",
   "metadata": {},
   "source": [
    "#### 1. Libraries needed"
   ]
  },
  {
   "cell_type": "code",
   "execution_count": 2,
   "metadata": {},
   "outputs": [],
   "source": [
    "import os\n",
    "import pandas as pd"
   ]
  },
  {
   "cell_type": "code",
   "execution_count": 3,
   "metadata": {},
   "outputs": [
    {
     "data": {
      "text/plain": [
       "'C:\\\\Users\\\\paola\\\\Documents\\\\ironhack\\\\190712-pandas-project\\\\your-code'"
      ]
     },
     "execution_count": 3,
     "metadata": {},
     "output_type": "execute_result"
    }
   ],
   "source": [
    "cwd = os.getcwd()\n",
    "cwd"
   ]
  },
  {
   "cell_type": "markdown",
   "metadata": {},
   "source": [
    "#### 2. How is data coming? Making sense of the columns\n",
    "**Site** - Site code: It is necessary since I want to merge two areas from Lewisham. *Keep it.* \n",
    "\n",
    "**Species** - pollutants names with standard chemical notation (e.g., CO = carbon monoxide), meteorological parameters are as follows: WSPD = wind speed, WDIR = wind direction, BP = barometric pressure, TMP = ambient temperature, RAIN = rainfall, SOLR = incoming solar radiation. *Keep it.*\n",
    "\n",
    "**DateTime** - Date and time of the measurement. This data is hourly mean value, i.e. for 01-jan-2018 12:00 encompasses measurements taken between 12:00 and 12:59 on 01 January 2018. *Keep it.*\n",
    "\n",
    "**Value** - Measurement concentration. *Keep it.*\n",
    "\n",
    "**Units** - Shows the units the values are quoted in. *Keep it.*\n",
    "\n",
    "**Provisional or Ratified** - P for provisional and R for Ratified. Provisional measurements are subjected to change. Ratified measurements have been through the full QAQC procedure and will not change in the future. *Keep it.*"
   ]
  },
  {
   "cell_type": "markdown",
   "metadata": {},
   "source": [
    "#####   **Examining data for potential issues**"
   ]
  },
  {
   "cell_type": "code",
   "execution_count": 29,
   "metadata": {},
   "outputs": [
    {
     "name": "stdout",
     "output_type": "stream",
     "text": [
      "<class 'pandas.core.frame.DataFrame'>\n",
      "RangeIndex: 34848 entries, 0 to 34847\n",
      "Data columns (total 6 columns):\n",
      "Site                       34848 non-null object\n",
      "Species                    34848 non-null object\n",
      "ReadingDateTime            34848 non-null object\n",
      "Value                      28947 non-null float64\n",
      "Units                      34848 non-null object\n",
      "Provisional or Ratified    34848 non-null object\n",
      "dtypes: float64(1), object(5)\n",
      "memory usage: 1.6+ MB\n"
     ]
    },
    {
     "data": {
      "text/plain": [
       "None"
      ]
     },
     "metadata": {},
     "output_type": "display_data"
    },
    {
     "data": {
      "text/html": [
       "<div>\n",
       "<style scoped>\n",
       "    .dataframe tbody tr th:only-of-type {\n",
       "        vertical-align: middle;\n",
       "    }\n",
       "\n",
       "    .dataframe tbody tr th {\n",
       "        vertical-align: top;\n",
       "    }\n",
       "\n",
       "    .dataframe thead th {\n",
       "        text-align: right;\n",
       "    }\n",
       "</style>\n",
       "<table border=\"1\" class=\"dataframe\">\n",
       "  <thead>\n",
       "    <tr style=\"text-align: right;\">\n",
       "      <th></th>\n",
       "      <th>Site</th>\n",
       "      <th>Species</th>\n",
       "      <th>ReadingDateTime</th>\n",
       "      <th>Value</th>\n",
       "      <th>Units</th>\n",
       "      <th>Provisional or Ratified</th>\n",
       "    </tr>\n",
       "  </thead>\n",
       "  <tbody>\n",
       "    <tr>\n",
       "      <th>34845</th>\n",
       "      <td>HP1</td>\n",
       "      <td>TSP</td>\n",
       "      <td>30/06/2019 21:00</td>\n",
       "      <td>7.1</td>\n",
       "      <td>ug/m3</td>\n",
       "      <td>P</td>\n",
       "    </tr>\n",
       "    <tr>\n",
       "      <th>34846</th>\n",
       "      <td>HP1</td>\n",
       "      <td>TSP</td>\n",
       "      <td>30/06/2019 22:00</td>\n",
       "      <td>6.8</td>\n",
       "      <td>ug/m3</td>\n",
       "      <td>P</td>\n",
       "    </tr>\n",
       "    <tr>\n",
       "      <th>34847</th>\n",
       "      <td>HP1</td>\n",
       "      <td>TSP</td>\n",
       "      <td>30/06/2019 23:00</td>\n",
       "      <td>6.1</td>\n",
       "      <td>ug/m3</td>\n",
       "      <td>P</td>\n",
       "    </tr>\n",
       "  </tbody>\n",
       "</table>\n",
       "</div>"
      ],
      "text/plain": [
       "      Site Species   ReadingDateTime  Value  Units Provisional or Ratified\n",
       "34845  HP1     TSP  30/06/2019 21:00    7.1  ug/m3                       P\n",
       "34846  HP1     TSP  30/06/2019 22:00    6.8  ug/m3                       P\n",
       "34847  HP1     TSP  30/06/2019 23:00    6.1  ug/m3                       P"
      ]
     },
     "metadata": {},
     "output_type": "display_data"
    },
    {
     "name": "stdout",
     "output_type": "stream",
     "text": [
      "<class 'pandas.core.frame.DataFrame'>\n"
     ]
    }
   ],
   "source": [
    "#First source\n",
    "read_lewisham_HP1 = pd.read_csv('Lewisham_HP1_raw.csv') \n",
    "\n",
    "display(read_lewisham_HP1.info())\n",
    "display(read_lewisham_HP1.tail(3))\n",
    "print(type(read_lewisham_HP1))"
   ]
  },
  {
   "cell_type": "code",
   "execution_count": 30,
   "metadata": {},
   "outputs": [
    {
     "name": "stdout",
     "output_type": "stream",
     "text": [
      "<class 'pandas.core.frame.DataFrame'>\n",
      "RangeIndex: 29040 entries, 0 to 29039\n",
      "Data columns (total 6 columns):\n",
      "Site                       29040 non-null object\n",
      "Species                    29040 non-null object\n",
      "ReadingDateTime            29040 non-null object\n",
      "Value                      17307 non-null float64\n",
      "Units                      29040 non-null object\n",
      "Provisional or Ratified    29040 non-null object\n",
      "dtypes: float64(1), object(5)\n",
      "memory usage: 1.3+ MB\n"
     ]
    },
    {
     "data": {
      "text/plain": [
       "None"
      ]
     },
     "metadata": {},
     "output_type": "display_data"
    },
    {
     "data": {
      "text/html": [
       "<div>\n",
       "<style scoped>\n",
       "    .dataframe tbody tr th:only-of-type {\n",
       "        vertical-align: middle;\n",
       "    }\n",
       "\n",
       "    .dataframe tbody tr th {\n",
       "        vertical-align: top;\n",
       "    }\n",
       "\n",
       "    .dataframe thead th {\n",
       "        text-align: right;\n",
       "    }\n",
       "</style>\n",
       "<table border=\"1\" class=\"dataframe\">\n",
       "  <thead>\n",
       "    <tr style=\"text-align: right;\">\n",
       "      <th></th>\n",
       "      <th>Site</th>\n",
       "      <th>Species</th>\n",
       "      <th>ReadingDateTime</th>\n",
       "      <th>Value</th>\n",
       "      <th>Units</th>\n",
       "      <th>Provisional or Ratified</th>\n",
       "    </tr>\n",
       "  </thead>\n",
       "  <tbody>\n",
       "    <tr>\n",
       "      <th>29037</th>\n",
       "      <td>LW1</td>\n",
       "      <td>SO2</td>\n",
       "      <td>30/06/2019 21:00</td>\n",
       "      <td>NaN</td>\n",
       "      <td>ug m-3</td>\n",
       "      <td>P</td>\n",
       "    </tr>\n",
       "    <tr>\n",
       "      <th>29038</th>\n",
       "      <td>LW1</td>\n",
       "      <td>SO2</td>\n",
       "      <td>30/06/2019 22:00</td>\n",
       "      <td>NaN</td>\n",
       "      <td>ug m-3</td>\n",
       "      <td>P</td>\n",
       "    </tr>\n",
       "    <tr>\n",
       "      <th>29039</th>\n",
       "      <td>LW1</td>\n",
       "      <td>SO2</td>\n",
       "      <td>30/06/2019 23:00</td>\n",
       "      <td>NaN</td>\n",
       "      <td>ug m-3</td>\n",
       "      <td>P</td>\n",
       "    </tr>\n",
       "  </tbody>\n",
       "</table>\n",
       "</div>"
      ],
      "text/plain": [
       "      Site Species   ReadingDateTime  Value   Units Provisional or Ratified\n",
       "29037  LW1     SO2  30/06/2019 21:00    NaN  ug m-3                       P\n",
       "29038  LW1     SO2  30/06/2019 22:00    NaN  ug m-3                       P\n",
       "29039  LW1     SO2  30/06/2019 23:00    NaN  ug m-3                       P"
      ]
     },
     "metadata": {},
     "output_type": "display_data"
    },
    {
     "name": "stdout",
     "output_type": "stream",
     "text": [
      "<class 'pandas.core.frame.DataFrame'>\n"
     ]
    }
   ],
   "source": [
    "#Second source\n",
    "read_Lewisham_LW2 = pd.read_csv('Lewisham_LW2_raw.csv')\n",
    "\n",
    "display(read_Lewisham_LW2.info())\n",
    "display(read_Lewisham_LW2.tail(3))\n",
    "print(type(read_Lewisham_LW2))"
   ]
  },
  {
   "cell_type": "markdown",
   "metadata": {},
   "source": [
    "#### 3. Data Cleaning\n",
    "#####   **3.1 Changing title names**"
   ]
  },
  {
   "cell_type": "code",
   "execution_count": 31,
   "metadata": {},
   "outputs": [
    {
     "data": {
      "text/html": [
       "<div>\n",
       "<style scoped>\n",
       "    .dataframe tbody tr th:only-of-type {\n",
       "        vertical-align: middle;\n",
       "    }\n",
       "\n",
       "    .dataframe tbody tr th {\n",
       "        vertical-align: top;\n",
       "    }\n",
       "\n",
       "    .dataframe thead th {\n",
       "        text-align: right;\n",
       "    }\n",
       "</style>\n",
       "<table border=\"1\" class=\"dataframe\">\n",
       "  <thead>\n",
       "    <tr style=\"text-align: right;\">\n",
       "      <th></th>\n",
       "      <th>Site</th>\n",
       "      <th>Pollutant Name</th>\n",
       "      <th>Reading Time</th>\n",
       "      <th>Value</th>\n",
       "      <th>Units</th>\n",
       "      <th>Provisional or Ratified</th>\n",
       "    </tr>\n",
       "  </thead>\n",
       "  <tbody>\n",
       "    <tr>\n",
       "      <th>0</th>\n",
       "      <td>HP1</td>\n",
       "      <td>NO</td>\n",
       "      <td>01/11/2018 00:00</td>\n",
       "      <td>NaN</td>\n",
       "      <td>ug m-3</td>\n",
       "      <td>P</td>\n",
       "    </tr>\n",
       "  </tbody>\n",
       "</table>\n",
       "</div>"
      ],
      "text/plain": [
       "  Site Pollutant Name      Reading Time  Value   Units Provisional or Ratified\n",
       "0  HP1             NO  01/11/2018 00:00    NaN  ug m-3                       P"
      ]
     },
     "metadata": {},
     "output_type": "display_data"
    }
   ],
   "source": [
    "#First source\n",
    "read_lewisham_HP1 = read_lewisham_HP1.rename(columns = {\"Species\":\"Pollutant Name\",\"ReadingDateTime\":\"Reading Time\"})\n",
    "display(read_lewisham_HP1.head(1))"
   ]
  },
  {
   "cell_type": "code",
   "execution_count": 32,
   "metadata": {},
   "outputs": [
    {
     "data": {
      "text/html": [
       "<div>\n",
       "<style scoped>\n",
       "    .dataframe tbody tr th:only-of-type {\n",
       "        vertical-align: middle;\n",
       "    }\n",
       "\n",
       "    .dataframe tbody tr th {\n",
       "        vertical-align: top;\n",
       "    }\n",
       "\n",
       "    .dataframe thead th {\n",
       "        text-align: right;\n",
       "    }\n",
       "</style>\n",
       "<table border=\"1\" class=\"dataframe\">\n",
       "  <thead>\n",
       "    <tr style=\"text-align: right;\">\n",
       "      <th></th>\n",
       "      <th>Site</th>\n",
       "      <th>Pollutant Name</th>\n",
       "      <th>Reading Time</th>\n",
       "      <th>Value</th>\n",
       "      <th>Units</th>\n",
       "      <th>Provisional or Ratified</th>\n",
       "    </tr>\n",
       "  </thead>\n",
       "  <tbody>\n",
       "    <tr>\n",
       "      <th>0</th>\n",
       "      <td>LW1</td>\n",
       "      <td>NO</td>\n",
       "      <td>01/11/2018 00:00</td>\n",
       "      <td>13.9</td>\n",
       "      <td>ug m-3</td>\n",
       "      <td>R</td>\n",
       "    </tr>\n",
       "  </tbody>\n",
       "</table>\n",
       "</div>"
      ],
      "text/plain": [
       "  Site Pollutant Name      Reading Time  Value   Units Provisional or Ratified\n",
       "0  LW1             NO  01/11/2018 00:00   13.9  ug m-3                       R"
      ]
     },
     "metadata": {},
     "output_type": "display_data"
    }
   ],
   "source": [
    "#Second source\n",
    "read_Lewisham_LW2 = read_Lewisham_LW2.rename(columns = {\"Species\":\"Pollutant Name\",\"ReadingDateTime\":\"Reading Time\"})\n",
    "display(read_Lewisham_LW2.head(1))"
   ]
  },
  {
   "cell_type": "markdown",
   "metadata": {},
   "source": [
    "#####   **3.2 Rearranging columns order**"
   ]
  },
  {
   "cell_type": "code",
   "execution_count": 33,
   "metadata": {},
   "outputs": [
    {
     "data": {
      "text/html": [
       "<div>\n",
       "<style scoped>\n",
       "    .dataframe tbody tr th:only-of-type {\n",
       "        vertical-align: middle;\n",
       "    }\n",
       "\n",
       "    .dataframe tbody tr th {\n",
       "        vertical-align: top;\n",
       "    }\n",
       "\n",
       "    .dataframe thead th {\n",
       "        text-align: right;\n",
       "    }\n",
       "</style>\n",
       "<table border=\"1\" class=\"dataframe\">\n",
       "  <thead>\n",
       "    <tr style=\"text-align: right;\">\n",
       "      <th></th>\n",
       "      <th>Site</th>\n",
       "      <th>Reading Time</th>\n",
       "      <th>Pollutant Name</th>\n",
       "      <th>Value</th>\n",
       "      <th>Units</th>\n",
       "      <th>Provisional or Ratified</th>\n",
       "    </tr>\n",
       "  </thead>\n",
       "  <tbody>\n",
       "    <tr>\n",
       "      <th>0</th>\n",
       "      <td>HP1</td>\n",
       "      <td>01/11/2018 00:00</td>\n",
       "      <td>NO</td>\n",
       "      <td>NaN</td>\n",
       "      <td>ug m-3</td>\n",
       "      <td>P</td>\n",
       "    </tr>\n",
       "  </tbody>\n",
       "</table>\n",
       "</div>"
      ],
      "text/plain": [
       "  Site      Reading Time Pollutant Name  Value   Units Provisional or Ratified\n",
       "0  HP1  01/11/2018 00:00             NO    NaN  ug m-3                       P"
      ]
     },
     "execution_count": 33,
     "metadata": {},
     "output_type": "execute_result"
    }
   ],
   "source": [
    "#First source\n",
    "new_order = ['Site','Reading Time','Pollutant Name','Value','Units','Provisional or Ratified']\n",
    "lewishamHP1_df = read_lewisham_HP1[new_order]\n",
    "lewishamHP1_df.head(1)"
   ]
  },
  {
   "cell_type": "code",
   "execution_count": 34,
   "metadata": {},
   "outputs": [
    {
     "data": {
      "text/html": [
       "<div>\n",
       "<style scoped>\n",
       "    .dataframe tbody tr th:only-of-type {\n",
       "        vertical-align: middle;\n",
       "    }\n",
       "\n",
       "    .dataframe tbody tr th {\n",
       "        vertical-align: top;\n",
       "    }\n",
       "\n",
       "    .dataframe thead th {\n",
       "        text-align: right;\n",
       "    }\n",
       "</style>\n",
       "<table border=\"1\" class=\"dataframe\">\n",
       "  <thead>\n",
       "    <tr style=\"text-align: right;\">\n",
       "      <th></th>\n",
       "      <th>Site</th>\n",
       "      <th>Reading Time</th>\n",
       "      <th>Pollutant Name</th>\n",
       "      <th>Value</th>\n",
       "      <th>Units</th>\n",
       "      <th>Provisional or Ratified</th>\n",
       "    </tr>\n",
       "  </thead>\n",
       "  <tbody>\n",
       "    <tr>\n",
       "      <th>0</th>\n",
       "      <td>LW1</td>\n",
       "      <td>01/11/2018 00:00</td>\n",
       "      <td>NO</td>\n",
       "      <td>13.9</td>\n",
       "      <td>ug m-3</td>\n",
       "      <td>R</td>\n",
       "    </tr>\n",
       "  </tbody>\n",
       "</table>\n",
       "</div>"
      ],
      "text/plain": [
       "  Site      Reading Time Pollutant Name  Value   Units Provisional or Ratified\n",
       "0  LW1  01/11/2018 00:00             NO   13.9  ug m-3                       R"
      ]
     },
     "execution_count": 34,
     "metadata": {},
     "output_type": "execute_result"
    }
   ],
   "source": [
    "#Second source\n",
    "new_order = ['Site','Reading Time','Pollutant Name','Value','Units','Provisional or Ratified']\n",
    "lewishamLW2_df = read_Lewisham_LW2[new_order]\n",
    "lewishamLW2_df.head(1)"
   ]
  },
  {
   "cell_type": "markdown",
   "metadata": {},
   "source": [
    "#####   **3.3 Changing names**"
   ]
  },
  {
   "cell_type": "code",
   "execution_count": 35,
   "metadata": {},
   "outputs": [
    {
     "data": {
      "text/plain": [
       "NO2      5808\n",
       "PM10     5808\n",
       "TSP      5808\n",
       "NO       5808\n",
       "PM2.5    5808\n",
       "O3       5808\n",
       "Name: Pollutant Name, dtype: int64"
      ]
     },
     "execution_count": 35,
     "metadata": {},
     "output_type": "execute_result"
    }
   ],
   "source": [
    "#Source 1\n",
    "lewishamHP1_df['Pollutant Name'].value_counts()"
   ]
  },
  {
   "cell_type": "code",
   "execution_count": 36,
   "metadata": {},
   "outputs": [],
   "source": [
    "lewishamHP1_df = lewishamHP1_df.replace({'Pollutant Name':'TSP'},{'Pollutant Name':'Total Suspended Particles'},regex=True)"
   ]
  },
  {
   "cell_type": "code",
   "execution_count": 27,
   "metadata": {},
   "outputs": [],
   "source": [
    "#Challenge: unexpected changes of the names. I was thinking to replace the 'NO', but it changed me the 'NO2' as well. And will\n",
    "#change the 'NOX' from the second source. So I prefered not to change it, to keep recognized abreviated names from the pollutants. \n",
    "#This kind of situations is one sample of the precautions when we decide to change values or names."
   ]
  },
  {
   "cell_type": "code",
   "execution_count": 37,
   "metadata": {},
   "outputs": [
    {
     "data": {
      "text/plain": [
       "LW1    29040\n",
       "Name: Site, dtype: int64"
      ]
     },
     "execution_count": 37,
     "metadata": {},
     "output_type": "execute_result"
    }
   ],
   "source": [
    "#Source 2\n",
    "lewishamLW2_df['Site'].value_counts()"
   ]
  },
  {
   "cell_type": "code",
   "execution_count": 39,
   "metadata": {},
   "outputs": [],
   "source": [
    "#Replacing LW1 to LW2\n",
    "lewishamLW2_df = lewishamLW2_df.replace({'Site':'LW1'},{'Site':'LW2'},regex=True)"
   ]
  },
  {
   "cell_type": "code",
   "execution_count": 40,
   "metadata": {},
   "outputs": [
    {
     "data": {
      "text/plain": [
       "SO2    5808\n",
       "NO2    5808\n",
       "NO     5808\n",
       "NOX    5808\n",
       "O3     5808\n",
       "Name: Pollutant Name, dtype: int64"
      ]
     },
     "execution_count": 40,
     "metadata": {},
     "output_type": "execute_result"
    }
   ],
   "source": [
    "lewishamLW2_df['Pollutant Name'].value_counts()"
   ]
  },
  {
   "cell_type": "markdown",
   "metadata": {},
   "source": [
    "#####   **3.4 Skiping NaN values**"
   ]
  },
  {
   "cell_type": "code",
   "execution_count": 41,
   "metadata": {},
   "outputs": [
    {
     "data": {
      "text/plain": [
       "Site                          0\n",
       "Reading Time                  0\n",
       "Pollutant Name                0\n",
       "Value                      5901\n",
       "Units                         0\n",
       "Provisional or Ratified       0\n",
       "dtype: int64"
      ]
     },
     "execution_count": 41,
     "metadata": {},
     "output_type": "execute_result"
    }
   ],
   "source": [
    "#Source 1\n",
    "null_values = lewishamHP1_df.isnull().sum()\n",
    "null_values"
   ]
  },
  {
   "cell_type": "code",
   "execution_count": 47,
   "metadata": {},
   "outputs": [
    {
     "data": {
      "text/plain": [
       "Site                       0\n",
       "Reading Time               0\n",
       "Pollutant Name             0\n",
       "Value                      0\n",
       "Units                      0\n",
       "Provisional or Ratified    0\n",
       "dtype: int64"
      ]
     },
     "execution_count": 47,
     "metadata": {},
     "output_type": "execute_result"
    }
   ],
   "source": [
    "#Droping the rows that had NaN values on its 'Value' column\n",
    "lewishamHP1_df = lewishamHP1_df.dropna(subset=['Value'])\n",
    "\n",
    "null_values = lewishamHP1_df.isnull().sum()\n",
    "null_values"
   ]
  },
  {
   "cell_type": "code",
   "execution_count": 49,
   "metadata": {},
   "outputs": [],
   "source": [
    "#Source 2\n",
    "null_values2 = lewishamLW2_df.isnull().sum() \n",
    "#There were 11733 NaN values\n",
    "lewishamLW2_df = lewishamLW2_df.dropna(subset=['Value'])"
   ]
  },
  {
   "cell_type": "markdown",
   "metadata": {},
   "source": [
    "#####   **3.5 Combining Data Frames**"
   ]
  },
  {
   "cell_type": "code",
   "execution_count": 51,
   "metadata": {},
   "outputs": [
    {
     "data": {
      "text/plain": [
       "NO2                          10459\n",
       "NO                           10197\n",
       "NOX                           5769\n",
       "Total Suspended Particles     5133\n",
       "PM10                          5133\n",
       "PM2.5                         4865\n",
       "O3                            4698\n",
       "Name: Pollutant Name, dtype: int64"
      ]
     },
     "metadata": {},
     "output_type": "display_data"
    },
    {
     "name": "stdout",
     "output_type": "stream",
     "text": [
      "<class 'pandas.core.frame.DataFrame'>\n",
      "Int64Index: 46254 entries, 1119 to 17423\n",
      "Data columns (total 6 columns):\n",
      "Site                       46254 non-null object\n",
      "Reading Time               46254 non-null object\n",
      "Pollutant Name             46254 non-null object\n",
      "Value                      46254 non-null float64\n",
      "Units                      46254 non-null object\n",
      "Provisional or Ratified    46254 non-null object\n",
      "dtypes: float64(1), object(5)\n",
      "memory usage: 2.5+ MB\n"
     ]
    },
    {
     "data": {
      "text/plain": [
       "None"
      ]
     },
     "metadata": {},
     "output_type": "display_data"
    }
   ],
   "source": [
    "#Using 'concat' method to attach rows with the same number of columns\n",
    "combined_PH1_LW2 = pd.concat([lewishamHP1_df,lewishamLW2_df],axis = 0)\n",
    "\n",
    "display(combined_PH1_LW2['Pollutant Name'].value_counts())\n",
    "display(combined_PH1_LW2.info())"
   ]
  },
  {
   "cell_type": "markdown",
   "metadata": {},
   "source": [
    "#####   **3.6 Checking extreme values or outliers (negative numbers)**"
   ]
  },
  {
   "cell_type": "code",
   "execution_count": 67,
   "metadata": {},
   "outputs": [
    {
     "data": {
      "text/html": [
       "<div>\n",
       "<style scoped>\n",
       "    .dataframe tbody tr th:only-of-type {\n",
       "        vertical-align: middle;\n",
       "    }\n",
       "\n",
       "    .dataframe tbody tr th {\n",
       "        vertical-align: top;\n",
       "    }\n",
       "\n",
       "    .dataframe thead th {\n",
       "        text-align: right;\n",
       "    }\n",
       "</style>\n",
       "<table border=\"1\" class=\"dataframe\">\n",
       "  <thead>\n",
       "    <tr style=\"text-align: right;\">\n",
       "      <th></th>\n",
       "      <th>count</th>\n",
       "      <th>mean</th>\n",
       "      <th>std</th>\n",
       "      <th>min</th>\n",
       "      <th>25%</th>\n",
       "      <th>50%</th>\n",
       "      <th>75%</th>\n",
       "      <th>max</th>\n",
       "    </tr>\n",
       "  </thead>\n",
       "  <tbody>\n",
       "    <tr>\n",
       "      <th>Value</th>\n",
       "      <td>46254.0</td>\n",
       "      <td>31.164157</td>\n",
       "      <td>37.216223</td>\n",
       "      <td>-3.7</td>\n",
       "      <td>9.0</td>\n",
       "      <td>19.4</td>\n",
       "      <td>42.0</td>\n",
       "      <td>710.5</td>\n",
       "    </tr>\n",
       "  </tbody>\n",
       "</table>\n",
       "</div>"
      ],
      "text/plain": [
       "         count       mean        std  min  25%   50%   75%    max\n",
       "Value  46254.0  31.164157  37.216223 -3.7  9.0  19.4  42.0  710.5"
      ]
     },
     "execution_count": 67,
     "metadata": {},
     "output_type": "execute_result"
    }
   ],
   "source": [
    "stats = combined_PH1_LW2.describe().transpose()\n",
    "stats"
   ]
  },
  {
   "cell_type": "code",
   "execution_count": 59,
   "metadata": {},
   "outputs": [],
   "source": [
    "#There are negative values: not reliable because of possible uncalibrated instruments\n",
    "\n",
    "test = combined_PH1_LW2[(combined_PH1_LW2['Value'] <= 0)]\n",
    "\n",
    "#Output --> There are 87 records: test[['Reading Time','Pollutant Name','Value','Units','Provisional or Ratified']]"
   ]
  },
  {
   "cell_type": "code",
   "execution_count": 60,
   "metadata": {},
   "outputs": [],
   "source": [
    "#I'll just note on the column 'Provisional or Ratified column that these values are not reliable\n",
    "combined_PH1_LW2.loc[(combined_PH1_LW2['Value'] <= 0),'Provisional or Ratified'] = 'P - not reliable data'"
   ]
  },
  {
   "cell_type": "code",
   "execution_count": 65,
   "metadata": {},
   "outputs": [
    {
     "data": {
      "text/html": [
       "<div>\n",
       "<style scoped>\n",
       "    .dataframe tbody tr th:only-of-type {\n",
       "        vertical-align: middle;\n",
       "    }\n",
       "\n",
       "    .dataframe tbody tr th {\n",
       "        vertical-align: top;\n",
       "    }\n",
       "\n",
       "    .dataframe thead th {\n",
       "        text-align: right;\n",
       "    }\n",
       "</style>\n",
       "<table border=\"1\" class=\"dataframe\">\n",
       "  <thead>\n",
       "    <tr style=\"text-align: right;\">\n",
       "      <th></th>\n",
       "      <th>Reading Time</th>\n",
       "      <th>Pollutant Name</th>\n",
       "      <th>Value</th>\n",
       "      <th>Units</th>\n",
       "      <th>Provisional or Ratified</th>\n",
       "    </tr>\n",
       "  </thead>\n",
       "  <tbody>\n",
       "    <tr>\n",
       "      <th>2356</th>\n",
       "      <td>07/02/2019 04:00</td>\n",
       "      <td>NO</td>\n",
       "      <td>-0.3</td>\n",
       "      <td>ug m-3</td>\n",
       "      <td>P - not reliable data</td>\n",
       "    </tr>\n",
       "  </tbody>\n",
       "</table>\n",
       "</div>"
      ],
      "text/plain": [
       "          Reading Time Pollutant Name  Value   Units Provisional or Ratified\n",
       "2356  07/02/2019 04:00             NO   -0.3  ug m-3   P - not reliable data"
      ]
     },
     "execution_count": 65,
     "metadata": {},
     "output_type": "execute_result"
    }
   ],
   "source": [
    "# Checking test note\n",
    "test = combined_PH1_LW2[(combined_PH1_LW2['Value'] <= 0)]\n",
    "test[['Reading Time','Pollutant Name','Value','Units','Provisional or Ratified']].head(1)"
   ]
  },
  {
   "cell_type": "markdown",
   "metadata": {},
   "source": [
    "#####   Checking extreme values or outliers (maximun points)"
   ]
  },
  {
   "cell_type": "code",
   "execution_count": 69,
   "metadata": {},
   "outputs": [
    {
     "data": {
      "text/html": [
       "<div>\n",
       "<style scoped>\n",
       "    .dataframe tbody tr th:only-of-type {\n",
       "        vertical-align: middle;\n",
       "    }\n",
       "\n",
       "    .dataframe tbody tr th {\n",
       "        vertical-align: top;\n",
       "    }\n",
       "\n",
       "    .dataframe thead th {\n",
       "        text-align: right;\n",
       "    }\n",
       "</style>\n",
       "<table border=\"1\" class=\"dataframe\">\n",
       "  <thead>\n",
       "    <tr style=\"text-align: right;\">\n",
       "      <th></th>\n",
       "      <th>count</th>\n",
       "      <th>mean</th>\n",
       "      <th>std</th>\n",
       "      <th>min</th>\n",
       "      <th>25%</th>\n",
       "      <th>50%</th>\n",
       "      <th>75%</th>\n",
       "      <th>max</th>\n",
       "      <th>IQR</th>\n",
       "    </tr>\n",
       "  </thead>\n",
       "  <tbody>\n",
       "    <tr>\n",
       "      <th>Value</th>\n",
       "      <td>46254.0</td>\n",
       "      <td>31.164157</td>\n",
       "      <td>37.216223</td>\n",
       "      <td>-3.7</td>\n",
       "      <td>9.0</td>\n",
       "      <td>19.4</td>\n",
       "      <td>42.0</td>\n",
       "      <td>710.5</td>\n",
       "      <td>33.0</td>\n",
       "    </tr>\n",
       "  </tbody>\n",
       "</table>\n",
       "</div>"
      ],
      "text/plain": [
       "         count       mean        std  min  25%   50%   75%    max   IQR\n",
       "Value  46254.0  31.164157  37.216223 -3.7  9.0  19.4  42.0  710.5  33.0"
      ]
     },
     "execution_count": 69,
     "metadata": {},
     "output_type": "execute_result"
    }
   ],
   "source": [
    "# Identifying outliers with the interquartile range (IQR). \n",
    "# Any values outside this range are potential outliers and should be investigated.\n",
    "\n",
    "stats['IQR'] = stats['75%'] - stats['25%']\n",
    "stats"
   ]
  },
  {
   "cell_type": "markdown",
   "metadata": {},
   "source": [
    "#####   **3.7 Creating an empty df called 'outliers'**"
   ]
  },
  {
   "cell_type": "code",
   "execution_count": 86,
   "metadata": {},
   "outputs": [
    {
     "data": {
      "text/html": [
       "<div>\n",
       "<style scoped>\n",
       "    .dataframe tbody tr th:only-of-type {\n",
       "        vertical-align: middle;\n",
       "    }\n",
       "\n",
       "    .dataframe tbody tr th {\n",
       "        vertical-align: top;\n",
       "    }\n",
       "\n",
       "    .dataframe thead th {\n",
       "        text-align: right;\n",
       "    }\n",
       "</style>\n",
       "<table border=\"1\" class=\"dataframe\">\n",
       "  <thead>\n",
       "    <tr style=\"text-align: right;\">\n",
       "      <th></th>\n",
       "      <th>Outlier</th>\n",
       "      <th>Pollutant Name</th>\n",
       "      <th>Provisional or Ratified</th>\n",
       "      <th>Reading Time</th>\n",
       "      <th>Site</th>\n",
       "      <th>Units</th>\n",
       "      <th>Value</th>\n",
       "    </tr>\n",
       "  </thead>\n",
       "  <tbody>\n",
       "    <tr>\n",
       "      <th>1296</th>\n",
       "      <td>Value</td>\n",
       "      <td>NO</td>\n",
       "      <td>P</td>\n",
       "      <td>25/12/2018 00:00</td>\n",
       "      <td>HP1</td>\n",
       "      <td>ug m-3</td>\n",
       "      <td>131.20000</td>\n",
       "    </tr>\n",
       "    <tr>\n",
       "      <th>1297</th>\n",
       "      <td>Value</td>\n",
       "      <td>NO</td>\n",
       "      <td>P</td>\n",
       "      <td>25/12/2018 01:00</td>\n",
       "      <td>HP1</td>\n",
       "      <td>ug m-3</td>\n",
       "      <td>142.39999</td>\n",
       "    </tr>\n",
       "    <tr>\n",
       "      <th>1298</th>\n",
       "      <td>Value</td>\n",
       "      <td>NO</td>\n",
       "      <td>P</td>\n",
       "      <td>25/12/2018 02:00</td>\n",
       "      <td>HP1</td>\n",
       "      <td>ug m-3</td>\n",
       "      <td>125.20000</td>\n",
       "    </tr>\n",
       "    <tr>\n",
       "      <th>1299</th>\n",
       "      <td>Value</td>\n",
       "      <td>NO</td>\n",
       "      <td>P</td>\n",
       "      <td>25/12/2018 03:00</td>\n",
       "      <td>HP1</td>\n",
       "      <td>ug m-3</td>\n",
       "      <td>102.50000</td>\n",
       "    </tr>\n",
       "    <tr>\n",
       "      <th>1354</th>\n",
       "      <td>Value</td>\n",
       "      <td>NO</td>\n",
       "      <td>P</td>\n",
       "      <td>27/12/2018 10:00</td>\n",
       "      <td>HP1</td>\n",
       "      <td>ug m-3</td>\n",
       "      <td>102.80000</td>\n",
       "    </tr>\n",
       "  </tbody>\n",
       "</table>\n",
       "</div>"
      ],
      "text/plain": [
       "     Outlier Pollutant Name Provisional or Ratified      Reading Time Site  \\\n",
       "1296   Value             NO                       P  25/12/2018 00:00  HP1   \n",
       "1297   Value             NO                       P  25/12/2018 01:00  HP1   \n",
       "1298   Value             NO                       P  25/12/2018 02:00  HP1   \n",
       "1299   Value             NO                       P  25/12/2018 03:00  HP1   \n",
       "1354   Value             NO                       P  27/12/2018 10:00  HP1   \n",
       "\n",
       "       Units      Value  \n",
       "1296  ug m-3  131.20000  \n",
       "1297  ug m-3  142.39999  \n",
       "1298  ug m-3  125.20000  \n",
       "1299  ug m-3  102.50000  \n",
       "1354  ug m-3  102.80000  "
      ]
     },
     "metadata": {},
     "output_type": "display_data"
    }
   ],
   "source": [
    "outliers = pd.DataFrame(columns=combined_PH1_LW2.columns)\n",
    "\n",
    "for col in stats.index:\n",
    "    iqr = stats.at[col,'IQR']\n",
    "    cutoff = iqr * 1.5\n",
    "    lower = stats.at[col,'25%'] - cutoff\n",
    "    upper = stats.at[col,'75%'] + cutoff\n",
    "    results = combined_PH1_LW2[(combined_PH1_LW2[col] < lower)|(combined_PH1_LW2[col] > upper)].copy()\n",
    "    results['Outlier']  = col\n",
    "    outliers = outliers.append(results)\n",
    "    \n",
    "display(outliers.head(3))\n",
    "# 2075 outlier entries\n",
    "\n",
    "# This is an empty dataframe called 'outliers' with the same columns as the core data frame 'combined_PH1_LW2'. \n",
    "# It could be investigated further and find out if they should be kept in the data or dropped. "
   ]
  },
  {
   "cell_type": "code",
   "execution_count": 87,
   "metadata": {},
   "outputs": [],
   "source": [
    "# Exporting outliers df for further analysis\n",
    "outliers.to_csv('Lewisham_outliers.csv',index=False)"
   ]
  },
  {
   "cell_type": "markdown",
   "metadata": {},
   "source": [
    "#####   **3.8 Exporting clean data**"
   ]
  },
  {
   "cell_type": "code",
   "execution_count": 89,
   "metadata": {},
   "outputs": [
    {
     "name": "stdout",
     "output_type": "stream",
     "text": [
      "<class 'pandas.core.frame.DataFrame'>\n",
      "Int64Index: 46254 entries, 1119 to 17423\n",
      "Data columns (total 6 columns):\n",
      "Site                       46254 non-null object\n",
      "Reading Time               46254 non-null object\n",
      "Pollutant Name             46254 non-null object\n",
      "Value                      46254 non-null float64\n",
      "Units                      46254 non-null object\n",
      "Provisional or Ratified    46254 non-null object\n",
      "dtypes: float64(1), object(5)\n",
      "memory usage: 3.7+ MB\n"
     ]
    },
    {
     "data": {
      "text/plain": [
       "None"
      ]
     },
     "metadata": {},
     "output_type": "display_data"
    }
   ],
   "source": [
    "display(combined_PH1_LW2.info())"
   ]
  },
  {
   "cell_type": "code",
   "execution_count": 90,
   "metadata": {},
   "outputs": [],
   "source": [
    "combined_PH1_LW2.to_csv('Lewisham_combined_clean.csv',index=False)"
   ]
  }
 ],
 "metadata": {
  "kernelspec": {
   "display_name": "Python 3",
   "language": "python",
   "name": "python3"
  },
  "language_info": {
   "codemirror_mode": {
    "name": "ipython",
    "version": 3
   },
   "file_extension": ".py",
   "mimetype": "text/x-python",
   "name": "python",
   "nbconvert_exporter": "python",
   "pygments_lexer": "ipython3",
   "version": "3.7.3"
  }
 },
 "nbformat": 4,
 "nbformat_minor": 4
}
