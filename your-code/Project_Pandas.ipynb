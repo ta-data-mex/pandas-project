{
 "cells": [
  {
   "cell_type": "code",
   "execution_count": null,
   "metadata": {},
   "outputs": [],
   "source": []
  },
  {
   "cell_type": "code",
   "execution_count": 143,
   "metadata": {},
   "outputs": [
    {
     "name": "stdout",
     "output_type": "stream",
     "text": [
      "Number of duplicate records dropped:  1209\n",
      "Number of incorrect values 59\n",
      "      FECHA DE OBS. DIRS[°] DIRR[°] VELS[km/h] VELR[km/h] TEMP[°C] HR[%]  \\\n",
      "1  18/10/2019 10:20      70      72        9.7       18.4     19.8    37   \n",
      "2  18/10/2019 10:10      64      53        9.1       14.8     19.6    36   \n",
      "3  18/10/2019 10:00      55      76        7.7       18.7     18.8    38   \n",
      "4  18/10/2019 09:50      54      53        7.6       16.9       18    40   \n",
      "5  18/10/2019 09:40      61      72        9.6       19.8     17.9    40   \n",
      "\n",
      "  PB[mBar] PREC[mm] RAD[kWh/m² TEMPC[°C] HUMCO[%] HUMSU[%] TEMPS[°C]  \n",
      "1    803.4        0        365      17.8       72       24      16.8  \n",
      "2    803.3        0        303      15.8       66       24      16.8  \n",
      "3    803.2        0        324      15.2       67       25      16.8  \n",
      "4    803.1        0        276      14.7       67       24      16.9  \n",
      "5      803        0        172      14.3       67       21      16.9  \n",
      "-----------------------------Group by Date by average-----------------------------------------\n",
      "\n",
      "                  DIRS[°]     DIRR[°]  VELS[km/h]   TEMP[°C]      HR[%]  \\\n",
      "FECHA DE OBS.                                                             \n",
      "8.0            205.613194  209.114583    7.796042  19.988889  64.870139   \n",
      "9.0            200.450466  204.200466   10.286597  17.506119  76.598485   \n",
      "10.0           225.216482  226.992005    9.647417  17.381796  64.653137   \n",
      "13.0           230.700000  228.811905   14.748810  17.720714  74.050000   \n",
      "14.0           232.661800  227.058394   14.047689  17.412165  81.581509   \n",
      "\n",
      "                 PB[mBar]  PREC[mm]  RAD[kWh/m²   HUMCO[%]  \n",
      "FECHA DE OBS.                                               \n",
      "8.0            805.971736  0.038472  211.292361  65.275000  \n",
      "9.0            805.464044  0.024009  197.986597  80.896270  \n",
      "10.0           804.263223  0.012054  192.926199  74.433579  \n",
      "13.0           804.466429  0.043333  157.366667  83.166667  \n",
      "14.0           804.909976  0.184428  145.102190  86.834550  \n",
      "            count        mean        std         min         25%         50%  \\\n",
      "DIRS[°]      22.0  205.962734  28.414168  167.718676  179.534242  203.031830   \n",
      "DIRR[°]      22.0  207.033276  26.107524  170.846336  183.931165  206.657525   \n",
      "VELS[km/h]   22.0   11.693279   4.675629    6.574667    8.041596    9.998733   \n",
      "TEMP[°C]     22.0   18.394206   0.812471   16.925706   17.798117   18.316444   \n",
      "HR[%]        22.0   69.117949   7.966792   57.052009   63.125181   67.490311   \n",
      "PB[mBar]     22.0  804.891813   0.847058  802.667014  804.403591  804.922723   \n",
      "PREC[mm]     22.0    0.041285   0.062047    0.000000    0.008923    0.021353   \n",
      "RAD[kWh/m²   22.0  209.454893  40.792689  125.259887  184.635299  209.803323   \n",
      "HUMCO[%]     22.0   75.041266   7.033666   65.275000   68.663511   74.902504   \n",
      "\n",
      "                   75%         max  \n",
      "DIRS[°]     228.067141  273.550847  \n",
      "DIRR[°]     227.041797  274.618644  \n",
      "VELS[km/h]   14.026623   24.015537  \n",
      "TEMP[°C]     19.059621   19.988889  \n",
      "HR[%]        74.741823   84.406015  \n",
      "PB[mBar]    805.495641  806.202536  \n",
      "PREC[mm]      0.038547    0.242963  \n",
      "RAD[kWh/m²  242.419874  282.545139  \n",
      "HUMCO[%]     80.322203   86.834550  \n"
     ]
    },
    {
     "data": {
      "image/png": "[encoded data removed]",
      "text/plain": [
       "<Figure size 432x288 with 1 Axes>"
      ]
     },
     "metadata": {
      "needs_background": "light"
     },
     "output_type": "display_data"
    }
   ],
   "source": [
    "#Mainreport_EMA_Raw Data : Sierra_luna \n",
    "#from https://pic.conabio.gob.mx/homepage/pic/emas.html; Climate Information plataform\n",
    "import pandas as pd \n",
    "import datetime\n",
    "import matplotlib.pyplot as plt\n",
    "\n",
    "raw_data=pd.read_csv('Mainreport_EMA_raw_data_export.csv')\n",
    "before=len(raw_data)\n",
    "raw_data=raw_data.drop_duplicates()\n",
    "after=len(raw_data)\n",
    "print('Number of duplicate records dropped: ', str(before - after))\n",
    "data=raw_data.drop(raw_data.index[0])\n",
    "data = data.rename(columns={'DIRS':'DIRS[°]','DIRR':'DIRR[°]','VELS':'VELS[km/h]','VELR':'VELR[km/h]',\n",
    "                            'TEMP':'TEMP[°C]','HR':'HR[%]','PB':'PB[mBar]','PREC':'PREC[mm]','RAD-':'RAD[kWh/m²',\n",
    "                            'TEMPC':'TEMPC[°C]','HUMCO':'HUMCO[%]','HUMSU':'HUMSU[%]','TEMPS':'TEMPS[°C]'})\n",
    "null_cols = data.isnull().sum()\n",
    "null_cols[null_cols > 0]\n",
    "data = data[(data[['DIRS[°]','DIRR[°]','VELS[km/h]','VELR[km/h]',\n",
    "                   'TEMP[°C]','HR[%]','PB[mBar]','PREC[mm]','RAD[kWh/m²',\n",
    "                  'TEMPC[°C]','HUMCO[%]','HUMSU[%]','TEMPS[°C]']] != \"\").all(axis=1)]\n",
    "\n",
    "data = data.dropna(subset=['DIRS[°]','DIRR[°]','VELS[km/h]','VELR[km/h]',\n",
    "                    'TEMP[°C]','HR[%]','PB[mBar]','PREC[mm]','RAD[kWh/m²',\n",
    "                  'TEMPC[°C]','HUMCO[%]','HUMSU[%]','TEMPS[°C]'])\n",
    "double_after=len(data)\n",
    "print('Number of incorrect values', str(after - double_after))\n",
    "null_cols = data.isnull().sum()\n",
    "null_cols[null_cols > 0]\n",
    "data.to_csv('Data_clean_EMA', index=False)\n",
    "print(data.head())\n",
    "\n",
    "print('-----------------------------Group by Date by average-----------------------------------------\\n')\n",
    "\n",
    "\n",
    "data['DIRS[°]'] = pd.to_numeric(data['DIRS[°]'],errors='coerce')\n",
    "data['DIRR[°]'] = pd.to_numeric(data['DIRR[°]'],errors='coerce')\n",
    "data['VELS[km/h]'] = pd.to_numeric(data['VELS[km/h]'],errors='coerce')\n",
    "data['TEMP[°C]'] = pd.to_numeric(data['TEMP[°C]'],errors='coerce')\n",
    "data['HR[%]'] = pd.to_numeric(data['HR[%]'],errors='coerce')\n",
    "data['PB[mBar]'] = pd.to_numeric(data['PB[mBar]'],errors='coerce')\n",
    "data['PREC[mm]'] = pd.to_numeric(data['PREC[mm]'],errors='coerce')\n",
    "data['RAD[kWh/m²'] = pd.to_numeric(data['RAD[kWh/m²'],errors='coerce')\n",
    "data['HUMCO[%]'] = pd.to_numeric(data['HUMCO[%]'],errors='coerce')\n",
    "\n",
    "data['FECHA DE OBS.'] = pd.to_datetime(data['FECHA DE OBS.'],errors='coerce')\n",
    "data_por_dia = data.groupby(data['FECHA DE OBS.'].dt.day).mean()\n",
    "data_por_dia=data_por_dia.rename(columns={'FECHA DE OBS.':'PROMEDIO DEL DIA'})\n",
    "print(data_por_dia.head())\n",
    "data_por_dia.to_csv('Data_clean_EMA_pordia', index=False)          \n",
    "\n",
    "\n",
    "print(data_por_dia.describe().transpose())\n",
    "data['FECHA DE OBS.'] = pd.to_numeric(data['FECHA DE OBS.'],errors='coerce')\n",
    "my_plot = data.plot('FECHA DE OBS.','VELS[km/h]',kind=\"scatter\")"
   ]
  },
  {
   "cell_type": "code",
   "execution_count": null,
   "metadata": {},
   "outputs": [],
   "source": []
  },
  {
   "cell_type": "code",
   "execution_count": null,
   "metadata": {},
   "outputs": [],
   "source": []
  },
  {
   "cell_type": "code",
   "execution_count": null,
   "metadata": {},
   "outputs": [],
   "source": []
  }
 ],
 "metadata": {
  "kernelspec": {
   "display_name": "Python 3",
   "language": "python",
   "name": "python3"
  },
  "language_info": {
   "codemirror_mode": {
    "name": "ipython",
    "version": 3
   },
   "file_extension": ".py",
   "mimetype": "text/x-python",
   "name": "python",
   "nbconvert_exporter": "python",
   "pygments_lexer": "ipython3",
   "version": "3.7.4"
  }
 },
 "nbformat": 4,
 "nbformat_minor": 2
}
