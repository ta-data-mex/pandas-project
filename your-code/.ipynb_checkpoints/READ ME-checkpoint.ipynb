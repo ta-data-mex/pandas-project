{
 "cells": [
  {
   "cell_type": "code",
   "execution_count": null,
   "metadata": {},
   "outputs": [],
   "source": [
    "-READ ME-\n",
    "\n",
    "El DENUE es el Directorio Estadístico Nacional de Unidades Económicas. En él están registrados todos los negocios, ya sean\n",
    "pequeños, medianos o grandes, y se encuentran clasificados por actividad económica de acuerdo al SCIAN, y cada uno tiene \n",
    "información sobre número de empleados, dirección, contacto, latitud y longitud, entre otros.\n",
    "Actualmente existen alrededor de 5 millones de registros.\n",
    "\n",
    "En el siguiente link se pueden descargar todos los archivos:\n",
    "https://www.inegi.org.mx/app/descarga/?ti=6\n",
    "\n",
    "Para el proyecto únicamente utilicé la información sobre comercio al por menor.\n",
    "Fueron cuatro bases de datos con la misma estructura, por lo que desde el principio las junté y sólo hice un único proceso de \n",
    "limpieza."
   ]
  }
 ],
 "metadata": {
  "kernelspec": {
   "display_name": "Python 3",
   "language": "python",
   "name": "python3"
  },
  "language_info": {
   "codemirror_mode": {
    "name": "ipython",
    "version": 3
   },
   "file_extension": ".py",
   "mimetype": "text/x-python",
   "name": "python",
   "nbconvert_exporter": "python",
   "pygments_lexer": "ipython3",
   "version": "3.7.4"
  }
 },
 "nbformat": 4,
 "nbformat_minor": 2
}
